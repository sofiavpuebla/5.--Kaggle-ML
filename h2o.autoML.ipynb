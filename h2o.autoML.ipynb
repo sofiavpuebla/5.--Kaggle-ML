{
 "cells": [
  {
   "cell_type": "code",
   "execution_count": 17,
   "metadata": {},
   "outputs": [
    {
     "name": "stdout",
     "output_type": "stream",
     "text": [
      "Checking whether there is an H2O instance running at http://localhost:54321 . connected.\n"
     ]
    },
    {
     "data": {
      "text/html": [
       "<div style=\"overflow:auto\"><table style=\"width:50%\"><tr><td>H2O_cluster_uptime:</td>\n",
       "<td>13 mins 29 secs</td></tr>\n",
       "<tr><td>H2O_cluster_timezone:</td>\n",
       "<td>Europe/Madrid</td></tr>\n",
       "<tr><td>H2O_data_parsing_timezone:</td>\n",
       "<td>UTC</td></tr>\n",
       "<tr><td>H2O_cluster_version:</td>\n",
       "<td>3.30.0.6</td></tr>\n",
       "<tr><td>H2O_cluster_version_age:</td>\n",
       "<td>19 days </td></tr>\n",
       "<tr><td>H2O_cluster_name:</td>\n",
       "<td>H2O_from_python_spuebla_zq4cdz</td></tr>\n",
       "<tr><td>H2O_cluster_total_nodes:</td>\n",
       "<td>1</td></tr>\n",
       "<tr><td>H2O_cluster_free_memory:</td>\n",
       "<td>1.652 Gb</td></tr>\n",
       "<tr><td>H2O_cluster_total_cores:</td>\n",
       "<td>4</td></tr>\n",
       "<tr><td>H2O_cluster_allowed_cores:</td>\n",
       "<td>4</td></tr>\n",
       "<tr><td>H2O_cluster_status:</td>\n",
       "<td>locked, healthy</td></tr>\n",
       "<tr><td>H2O_connection_url:</td>\n",
       "<td>http://localhost:54321</td></tr>\n",
       "<tr><td>H2O_connection_proxy:</td>\n",
       "<td>{\"http\": null, \"https\": null}</td></tr>\n",
       "<tr><td>H2O_internal_security:</td>\n",
       "<td>False</td></tr>\n",
       "<tr><td>H2O_API_Extensions:</td>\n",
       "<td>Amazon S3, XGBoost, Algos, AutoML, Core V3, TargetEncoder, Core V4</td></tr>\n",
       "<tr><td>Python_version:</td>\n",
       "<td>3.7.7 final</td></tr></table></div>"
      ],
      "text/plain": [
       "--------------------------  ------------------------------------------------------------------\n",
       "H2O_cluster_uptime:         13 mins 29 secs\n",
       "H2O_cluster_timezone:       Europe/Madrid\n",
       "H2O_data_parsing_timezone:  UTC\n",
       "H2O_cluster_version:        3.30.0.6\n",
       "H2O_cluster_version_age:    19 days\n",
       "H2O_cluster_name:           H2O_from_python_spuebla_zq4cdz\n",
       "H2O_cluster_total_nodes:    1\n",
       "H2O_cluster_free_memory:    1.652 Gb\n",
       "H2O_cluster_total_cores:    4\n",
       "H2O_cluster_allowed_cores:  4\n",
       "H2O_cluster_status:         locked, healthy\n",
       "H2O_connection_url:         http://localhost:54321\n",
       "H2O_connection_proxy:       {\"http\": null, \"https\": null}\n",
       "H2O_internal_security:      False\n",
       "H2O_API_Extensions:         Amazon S3, XGBoost, Algos, AutoML, Core V3, TargetEncoder, Core V4\n",
       "Python_version:             3.7.7 final\n",
       "--------------------------  ------------------------------------------------------------------"
      ]
     },
     "metadata": {},
     "output_type": "display_data"
    }
   ],
   "source": [
    "import h2o\n",
    "from h2o.automl import H2OAutoML\n",
    "h2o.init()"
   ]
  },
  {
   "cell_type": "code",
   "execution_count": 5,
   "metadata": {},
   "outputs": [],
   "source": [
    "import pandas as pd"
   ]
  },
  {
   "cell_type": "code",
   "execution_count": 6,
   "metadata": {},
   "outputs": [],
   "source": [
    "train=pd.read_csv(\"input/train_diam.csv\")\n",
    "test=pd.read_csv(\"input/test_diam.csv\")"
   ]
  },
  {
   "cell_type": "code",
   "execution_count": 7,
   "metadata": {},
   "outputs": [
    {
     "name": "stdout",
     "output_type": "stream",
     "text": [
      "Parse progress: |█████████████████████████████████████████████████████████| 100%\n",
      "Parse progress: |█████████████████████████████████████████████████████████| 100%\n"
     ]
    }
   ],
   "source": [
    "h2train=h2o.H2OFrame(train)\n",
    "h2test=h2o.H2OFrame(test)"
   ]
  },
  {
   "cell_type": "code",
   "execution_count": 18,
   "metadata": {},
   "outputs": [],
   "source": [
    "x=['carat',\n",
    " 'x',\n",
    " 'y',\n",
    " 'z',\n",
    " 'cut_Fair',\n",
    " 'cut_Good',\n",
    " 'cut_Ideal',\n",
    " 'cut_Premium',\n",
    " 'cut_Very Good',\n",
    " 'color_D',\n",
    " 'color_E',\n",
    " 'color_F',\n",
    " 'color_G',\n",
    " 'color_H',\n",
    " 'color_I',\n",
    " 'color_J',\n",
    " 'clarity_I1',\n",
    " 'clarity_IF',\n",
    " 'clarity_SI1',\n",
    " 'clarity_SI2',\n",
    " 'clarity_VS1',\n",
    " 'clarity_VS2',\n",
    " 'clarity_VVS1',\n",
    " 'clarity_VVS2']"
   ]
  },
  {
   "cell_type": "code",
   "execution_count": 19,
   "metadata": {},
   "outputs": [],
   "source": [
    "y=\"price\""
   ]
  },
  {
   "cell_type": "code",
   "execution_count": null,
   "metadata": {},
   "outputs": [],
   "source": [
    "aml=H2OAutoML(max_models=20,seed=1)"
   ]
  },
  {
   "cell_type": "code",
   "execution_count": 23,
   "metadata": {},
   "outputs": [
    {
     "data": {
      "text/html": [
       "<table>\n",
       "<thead>\n",
       "<tr><th>model_id                                           </th><th style=\"text-align: right;\">  mean_residual_deviance</th><th style=\"text-align: right;\">   rmse</th><th style=\"text-align: right;\">   mse</th><th style=\"text-align: right;\">    mae</th><th style=\"text-align: right;\">      rmsle</th></tr>\n",
       "</thead>\n",
       "<tbody>\n",
       "<tr><td>StackedEnsemble_BestOfFamily_AutoML_20200720_192533</td><td style=\"text-align: right;\">                  292195</td><td style=\"text-align: right;\">540.551</td><td style=\"text-align: right;\">292195</td><td style=\"text-align: right;\">272.798</td><td style=\"text-align: right;\">  0.0960055</td></tr>\n",
       "<tr><td>StackedEnsemble_AllModels_AutoML_20200720_192533   </td><td style=\"text-align: right;\">                  294238</td><td style=\"text-align: right;\">542.437</td><td style=\"text-align: right;\">294238</td><td style=\"text-align: right;\">275.997</td><td style=\"text-align: right;\">  0.0991467</td></tr>\n",
       "<tr><td>GBM_3_AutoML_20200720_192533                       </td><td style=\"text-align: right;\">                  304309</td><td style=\"text-align: right;\">551.642</td><td style=\"text-align: right;\">304309</td><td style=\"text-align: right;\">284.479</td><td style=\"text-align: right;\">  0.104632 </td></tr>\n",
       "<tr><td>GBM_4_AutoML_20200720_192533                       </td><td style=\"text-align: right;\">                  305054</td><td style=\"text-align: right;\">552.317</td><td style=\"text-align: right;\">305054</td><td style=\"text-align: right;\">280.303</td><td style=\"text-align: right;\">nan        </td></tr>\n",
       "<tr><td>GBM_1_AutoML_20200720_192533                       </td><td style=\"text-align: right;\">                  307204</td><td style=\"text-align: right;\">554.26 </td><td style=\"text-align: right;\">307204</td><td style=\"text-align: right;\">289.397</td><td style=\"text-align: right;\">  0.10727  </td></tr>\n",
       "<tr><td>GBM_2_AutoML_20200720_192533                       </td><td style=\"text-align: right;\">                  308829</td><td style=\"text-align: right;\">555.724</td><td style=\"text-align: right;\">308829</td><td style=\"text-align: right;\">288.173</td><td style=\"text-align: right;\">  0.107321 </td></tr>\n",
       "<tr><td>XRT_1_AutoML_20200720_192533                       </td><td style=\"text-align: right;\">                  313658</td><td style=\"text-align: right;\">560.052</td><td style=\"text-align: right;\">313658</td><td style=\"text-align: right;\">279.004</td><td style=\"text-align: right;\">  0.0952806</td></tr>\n",
       "<tr><td>DRF_1_AutoML_20200720_192533                       </td><td style=\"text-align: right;\">                  315702</td><td style=\"text-align: right;\">561.873</td><td style=\"text-align: right;\">315702</td><td style=\"text-align: right;\">280.147</td><td style=\"text-align: right;\">  0.0954941</td></tr>\n",
       "<tr><td>GBM_5_AutoML_20200720_192533                       </td><td style=\"text-align: right;\">                  319898</td><td style=\"text-align: right;\">565.595</td><td style=\"text-align: right;\">319898</td><td style=\"text-align: right;\">284.724</td><td style=\"text-align: right;\">nan        </td></tr>\n",
       "<tr><td>XGBoost_grid__1_AutoML_20200720_192533_model_4     </td><td style=\"text-align: right;\">                  322590</td><td style=\"text-align: right;\">567.97 </td><td style=\"text-align: right;\">322590</td><td style=\"text-align: right;\">298.245</td><td style=\"text-align: right;\">  0.107733 </td></tr>\n",
       "</tbody>\n",
       "</table>"
      ]
     },
     "metadata": {},
     "output_type": "display_data"
    },
    {
     "data": {
      "text/plain": []
     },
     "execution_count": 23,
     "metadata": {},
     "output_type": "execute_result"
    }
   ],
   "source": [
    "aml.leaderboard"
   ]
  },
  {
   "cell_type": "code",
   "execution_count": 29,
   "metadata": {},
   "outputs": [
    {
     "name": "stdout",
     "output_type": "stream",
     "text": [
      "stackedensemble prediction progress: |████████████████████████████████████| 100%\n"
     ]
    }
   ],
   "source": [
    "pred=aml.leader.predict(h2test)"
   ]
  },
  {
   "cell_type": "code",
   "execution_count": 33,
   "metadata": {},
   "outputs": [],
   "source": [
    "final=pd.DataFrame(pred.as_data_frame())"
   ]
  },
  {
   "cell_type": "code",
   "execution_count": 38,
   "metadata": {},
   "outputs": [],
   "source": [
    "final.rename(columns={\"predict\":\"price\"}, inplace=True)\n",
    "final.index.rename(\"id\",inplace=True)"
   ]
  },
  {
   "cell_type": "code",
   "execution_count": 40,
   "metadata": {},
   "outputs": [],
   "source": [
    "final.to_csv(\"output/test_automl.csv\")"
   ]
  },
  {
   "cell_type": "code",
   "execution_count": 41,
   "metadata": {},
   "outputs": [],
   "source": [
    "aml=H2OAutoML(max_models=20,seed=10,sort_metric=\"RMSE\")"
   ]
  },
  {
   "cell_type": "code",
   "execution_count": 42,
   "metadata": {},
   "outputs": [
    {
     "name": "stdout",
     "output_type": "stream",
     "text": [
      "AutoML progress: |████████████████████████████████████████████████████████| 100%\n"
     ]
    }
   ],
   "source": [
    "aml.train(x=x,y=y, training_frame=h2train)"
   ]
  },
  {
   "cell_type": "code",
   "execution_count": 44,
   "metadata": {},
   "outputs": [
    {
     "data": {
      "text/html": [
       "<table>\n",
       "<thead>\n",
       "<tr><th>model_id                                           </th><th style=\"text-align: right;\">   rmse</th><th style=\"text-align: right;\">  mean_residual_deviance</th><th style=\"text-align: right;\">   mse</th><th style=\"text-align: right;\">    mae</th><th style=\"text-align: right;\">      rmsle</th></tr>\n",
       "</thead>\n",
       "<tbody>\n",
       "<tr><td>StackedEnsemble_BestOfFamily_AutoML_20200720_200817</td><td style=\"text-align: right;\">539.893</td><td style=\"text-align: right;\">                  291484</td><td style=\"text-align: right;\">291484</td><td style=\"text-align: right;\">271.027</td><td style=\"text-align: right;\">  0.094692 </td></tr>\n",
       "<tr><td>StackedEnsemble_AllModels_AutoML_20200720_200817   </td><td style=\"text-align: right;\">540.454</td><td style=\"text-align: right;\">                  292091</td><td style=\"text-align: right;\">292091</td><td style=\"text-align: right;\">274.503</td><td style=\"text-align: right;\">  0.0978106</td></tr>\n",
       "<tr><td>GBM_4_AutoML_20200720_200817                       </td><td style=\"text-align: right;\">551.204</td><td style=\"text-align: right;\">                  303826</td><td style=\"text-align: right;\">303826</td><td style=\"text-align: right;\">279.468</td><td style=\"text-align: right;\">nan        </td></tr>\n",
       "<tr><td>GBM_2_AutoML_20200720_200817                       </td><td style=\"text-align: right;\">553.953</td><td style=\"text-align: right;\">                  306863</td><td style=\"text-align: right;\">306863</td><td style=\"text-align: right;\">288.638</td><td style=\"text-align: right;\">  0.106524 </td></tr>\n",
       "<tr><td>GBM_3_AutoML_20200720_200817                       </td><td style=\"text-align: right;\">557.637</td><td style=\"text-align: right;\">                  310960</td><td style=\"text-align: right;\">310960</td><td style=\"text-align: right;\">286.803</td><td style=\"text-align: right;\">  0.105059 </td></tr>\n",
       "<tr><td>GBM_1_AutoML_20200720_200817                       </td><td style=\"text-align: right;\">559.343</td><td style=\"text-align: right;\">                  312864</td><td style=\"text-align: right;\">312864</td><td style=\"text-align: right;\">293.007</td><td style=\"text-align: right;\">  0.108822 </td></tr>\n",
       "<tr><td>DRF_1_AutoML_20200720_200817                       </td><td style=\"text-align: right;\">560.2  </td><td style=\"text-align: right;\">                  313824</td><td style=\"text-align: right;\">313824</td><td style=\"text-align: right;\">279.305</td><td style=\"text-align: right;\">  0.0951362</td></tr>\n",
       "<tr><td>GBM_grid__1_AutoML_20200720_200817_model_2         </td><td style=\"text-align: right;\">561.288</td><td style=\"text-align: right;\">                  315044</td><td style=\"text-align: right;\">315044</td><td style=\"text-align: right;\">279.373</td><td style=\"text-align: right;\">nan        </td></tr>\n",
       "<tr><td>XRT_1_AutoML_20200720_200817                       </td><td style=\"text-align: right;\">561.742</td><td style=\"text-align: right;\">                  315554</td><td style=\"text-align: right;\">315554</td><td style=\"text-align: right;\">279.772</td><td style=\"text-align: right;\">  0.0953657</td></tr>\n",
       "<tr><td>XGBoost_grid__1_AutoML_20200720_200817_model_3     </td><td style=\"text-align: right;\">562.991</td><td style=\"text-align: right;\">                  316959</td><td style=\"text-align: right;\">316959</td><td style=\"text-align: right;\">285.481</td><td style=\"text-align: right;\">  0.100247 </td></tr>\n",
       "</tbody>\n",
       "</table>"
      ]
     },
     "metadata": {},
     "output_type": "display_data"
    },
    {
     "data": {
      "text/plain": []
     },
     "execution_count": 44,
     "metadata": {},
     "output_type": "execute_result"
    }
   ],
   "source": [
    "aml.leaderboard"
   ]
  },
  {
   "cell_type": "code",
   "execution_count": 45,
   "metadata": {},
   "outputs": [
    {
     "name": "stdout",
     "output_type": "stream",
     "text": [
      "stackedensemble prediction progress: |████████████████████████████████████| 100%\n"
     ]
    }
   ],
   "source": [
    "pred=aml.leader.predict(h2test)"
   ]
  },
  {
   "cell_type": "code",
   "execution_count": 53,
   "metadata": {},
   "outputs": [
    {
     "data": {
      "text/html": [
       "<div>\n",
       "<style scoped>\n",
       "    .dataframe tbody tr th:only-of-type {\n",
       "        vertical-align: middle;\n",
       "    }\n",
       "\n",
       "    .dataframe tbody tr th {\n",
       "        vertical-align: top;\n",
       "    }\n",
       "\n",
       "    .dataframe thead th {\n",
       "        text-align: right;\n",
       "    }\n",
       "</style>\n",
       "<table border=\"1\" class=\"dataframe\">\n",
       "  <thead>\n",
       "    <tr style=\"text-align: right;\">\n",
       "      <th></th>\n",
       "      <th>price</th>\n",
       "    </tr>\n",
       "    <tr>\n",
       "      <th>id</th>\n",
       "      <th></th>\n",
       "    </tr>\n",
       "  </thead>\n",
       "  <tbody>\n",
       "    <tr>\n",
       "      <th>0</th>\n",
       "      <td>15178.030483</td>\n",
       "    </tr>\n",
       "    <tr>\n",
       "      <th>1</th>\n",
       "      <td>15601.795373</td>\n",
       "    </tr>\n",
       "    <tr>\n",
       "      <th>2</th>\n",
       "      <td>1023.601170</td>\n",
       "    </tr>\n",
       "    <tr>\n",
       "      <th>3</th>\n",
       "      <td>423.111095</td>\n",
       "    </tr>\n",
       "    <tr>\n",
       "      <th>4</th>\n",
       "      <td>3539.527409</td>\n",
       "    </tr>\n",
       "    <tr>\n",
       "      <th>...</th>\n",
       "      <td>...</td>\n",
       "    </tr>\n",
       "    <tr>\n",
       "      <th>13480</th>\n",
       "      <td>2507.416921</td>\n",
       "    </tr>\n",
       "    <tr>\n",
       "      <th>13481</th>\n",
       "      <td>4999.347306</td>\n",
       "    </tr>\n",
       "    <tr>\n",
       "      <th>13482</th>\n",
       "      <td>2354.570526</td>\n",
       "    </tr>\n",
       "    <tr>\n",
       "      <th>13483</th>\n",
       "      <td>1053.642830</td>\n",
       "    </tr>\n",
       "    <tr>\n",
       "      <th>13484</th>\n",
       "      <td>2899.399003</td>\n",
       "    </tr>\n",
       "  </tbody>\n",
       "</table>\n",
       "<p>13485 rows × 1 columns</p>\n",
       "</div>"
      ],
      "text/plain": [
       "              price\n",
       "id                 \n",
       "0      15178.030483\n",
       "1      15601.795373\n",
       "2       1023.601170\n",
       "3        423.111095\n",
       "4       3539.527409\n",
       "...             ...\n",
       "13480   2507.416921\n",
       "13481   4999.347306\n",
       "13482   2354.570526\n",
       "13483   1053.642830\n",
       "13484   2899.399003\n",
       "\n",
       "[13485 rows x 1 columns]"
      ]
     },
     "execution_count": 53,
     "metadata": {},
     "output_type": "execute_result"
    }
   ],
   "source": [
    "final2=pred.as_data_frame()\n",
    "final2.rename(columns={\"predict\":\"price\"},inplace=True)\n",
    "final2.index.rename(\"id\", inplace=True)\n",
    "final2"
   ]
  },
  {
   "cell_type": "code",
   "execution_count": 54,
   "metadata": {},
   "outputs": [],
   "source": [
    "final2.to_csv(\"output/test_automl2.csv\")"
   ]
  },
  {
   "cell_type": "markdown",
   "metadata": {},
   "source": [
    " "
   ]
  },
  {
   "cell_type": "markdown",
   "metadata": {},
   "source": [
    "**Para hacer los gráficos, vamos a utilizar el dataset de train para luego poder contrastar el groundtruth con la predicción obtenida.**"
   ]
  },
  {
   "cell_type": "code",
   "execution_count": 144,
   "metadata": {},
   "outputs": [],
   "source": [
    "X=h2train.drop(\"price\")\n",
    "y=h2train[\"price\"]"
   ]
  },
  {
   "cell_type": "code",
   "execution_count": 145,
   "metadata": {},
   "outputs": [
    {
     "name": "stdout",
     "output_type": "stream",
     "text": [
      "stackedensemble prediction progress: |████████████████████████████████████| 100%\n"
     ]
    }
   ],
   "source": [
    "y_pred=aml.leader.predict(X)"
   ]
  },
  {
   "cell_type": "code",
   "execution_count": 157,
   "metadata": {},
   "outputs": [],
   "source": [
    "from numpy.polynomial.polynomial import polyfit\n",
    "import matplotlib.pyplot as plt"
   ]
  },
  {
   "cell_type": "code",
   "execution_count": 158,
   "metadata": {},
   "outputs": [
    {
     "ename": "AttributeError",
     "evalue": "'DataFrame' object has no attribute 'as_data_frame'",
     "output_type": "error",
     "traceback": [
      "\u001b[0;31m---------------------------------------------------------------------------\u001b[0m",
      "\u001b[0;31mAttributeError\u001b[0m                            Traceback (most recent call last)",
      "\u001b[0;32m<ipython-input-158-e12a78187ca3>\u001b[0m in \u001b[0;36m<module>\u001b[0;34m\u001b[0m\n\u001b[0;32m----> 1\u001b[0;31m \u001b[0my_pred\u001b[0m\u001b[0;34m=\u001b[0m\u001b[0my_pred\u001b[0m\u001b[0;34m.\u001b[0m\u001b[0mas_data_frame\u001b[0m\u001b[0;34m(\u001b[0m\u001b[0;34m)\u001b[0m\u001b[0;34m\u001b[0m\u001b[0;34m\u001b[0m\u001b[0m\n\u001b[0m\u001b[1;32m      2\u001b[0m \u001b[0my\u001b[0m\u001b[0;34m=\u001b[0m\u001b[0my\u001b[0m\u001b[0;34m.\u001b[0m\u001b[0mas_data_frame\u001b[0m\u001b[0;34m(\u001b[0m\u001b[0;34m)\u001b[0m\u001b[0;34m\u001b[0m\u001b[0;34m\u001b[0m\u001b[0m\n",
      "\u001b[0;32m/usr/local/lib/python3.7/site-packages/pandas/core/generic.py\u001b[0m in \u001b[0;36m__getattr__\u001b[0;34m(self, name)\u001b[0m\n\u001b[1;32m   5272\u001b[0m             \u001b[0;32mif\u001b[0m \u001b[0mself\u001b[0m\u001b[0;34m.\u001b[0m\u001b[0m_info_axis\u001b[0m\u001b[0;34m.\u001b[0m\u001b[0m_can_hold_identifiers_and_holds_name\u001b[0m\u001b[0;34m(\u001b[0m\u001b[0mname\u001b[0m\u001b[0;34m)\u001b[0m\u001b[0;34m:\u001b[0m\u001b[0;34m\u001b[0m\u001b[0;34m\u001b[0m\u001b[0m\n\u001b[1;32m   5273\u001b[0m                 \u001b[0;32mreturn\u001b[0m \u001b[0mself\u001b[0m\u001b[0;34m[\u001b[0m\u001b[0mname\u001b[0m\u001b[0;34m]\u001b[0m\u001b[0;34m\u001b[0m\u001b[0;34m\u001b[0m\u001b[0m\n\u001b[0;32m-> 5274\u001b[0;31m             \u001b[0;32mreturn\u001b[0m \u001b[0mobject\u001b[0m\u001b[0;34m.\u001b[0m\u001b[0m__getattribute__\u001b[0m\u001b[0;34m(\u001b[0m\u001b[0mself\u001b[0m\u001b[0;34m,\u001b[0m \u001b[0mname\u001b[0m\u001b[0;34m)\u001b[0m\u001b[0;34m\u001b[0m\u001b[0;34m\u001b[0m\u001b[0m\n\u001b[0m\u001b[1;32m   5275\u001b[0m \u001b[0;34m\u001b[0m\u001b[0m\n\u001b[1;32m   5276\u001b[0m     \u001b[0;32mdef\u001b[0m \u001b[0m__setattr__\u001b[0m\u001b[0;34m(\u001b[0m\u001b[0mself\u001b[0m\u001b[0;34m,\u001b[0m \u001b[0mname\u001b[0m\u001b[0;34m:\u001b[0m \u001b[0mstr\u001b[0m\u001b[0;34m,\u001b[0m \u001b[0mvalue\u001b[0m\u001b[0;34m)\u001b[0m \u001b[0;34m->\u001b[0m \u001b[0;32mNone\u001b[0m\u001b[0;34m:\u001b[0m\u001b[0;34m\u001b[0m\u001b[0;34m\u001b[0m\u001b[0m\n",
      "\u001b[0;31mAttributeError\u001b[0m: 'DataFrame' object has no attribute 'as_data_frame'"
     ]
    }
   ],
   "source": [
    "y_pred=y_pred.as_data_frame()\n",
    "y=y.as_data_frame()"
   ]
  },
  {
   "cell_type": "code",
   "execution_count": 159,
   "metadata": {},
   "outputs": [],
   "source": [
    "b,m=polyfit(y[\"price\"],y_pred[\"predict\"],1)"
   ]
  },
  {
   "cell_type": "code",
   "execution_count": 169,
   "metadata": {},
   "outputs": [
    {
     "data": {
      "image/png": "[encoded data removed]",
      "text/plain": [
       "<Figure size 864x864 with 1 Axes>"
      ]
     },
     "metadata": {
      "needs_background": "light"
     },
     "output_type": "display_data"
    }
   ],
   "source": [
    "plt.figure(figsize=(12,12))\n",
    "plt.scatter(x=y[\"price\"],y=y_pred[\"predict\"], c=\"gold\")\n",
    "plt.plot(y[\"price\"],b+m*(y[\"price\"]),':', c=\"black\")\n",
    "plt.title(\"Tested vs Predicted\")\n",
    "plt.xlabel(\"Groundtruth\")\n",
    "plt.ylabel(\"Prediction\")\n",
    "plt.savefig(\"output/auto_ML.jpg\")"
   ]
  },
  {
   "cell_type": "code",
   "execution_count": null,
   "metadata": {},
   "outputs": [],
   "source": []
  },
  {
   "cell_type": "code",
   "execution_count": null,
   "metadata": {},
   "outputs": [],
   "source": []
  }
 ],
 "metadata": {
  "kernelspec": {
   "display_name": "Python 3",
   "language": "python",
   "name": "python3"
  },
  "language_info": {
   "codemirror_mode": {
    "name": "ipython",
    "version": 3
   },
   "file_extension": ".py",
   "mimetype": "text/x-python",
   "name": "python",
   "nbconvert_exporter": "python",
   "pygments_lexer": "ipython3",
   "version": "3.7.7"
  }
 },
 "nbformat": 4,
 "nbformat_minor": 4
}
